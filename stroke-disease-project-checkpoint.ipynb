{
 "cells": [
  {
   "cell_type": "markdown",
   "id": "c6dbce37",
   "metadata": {},
   "source": [
    "# Predicting heart disease using Machine Learning\n",
    "\n",
    "The notebook looks into using various Python-based machine learning and Data Science libraries in an attempt to build a machine learning model capable of predicting whether or not someone has heart disease on their medical attribute.\n",
    "\n",
    "We are going to take the following approach:\n",
    "1. Problem Definition\n",
    "2. Data\n",
    "3. Evaluation\n",
    "4. Features\n",
    "5. Modelling\n",
    "6. Experimentation\n",
    "\n",
    "# 1. Problem Definition\n",
    "\n",
    "In a statement,\n",
    "> Given clinical parameters about a patient, can we predict whether or not they have a stroke disease?\n",
    "\n",
    "# 2. Data\n",
    "\n",
    "The orginal data came from https://www.kaggle.com/datasets/fedesoriano/stroke-prediction-dataset\n",
    "\n",
    "# 3. Evaluation\n",
    "\n",
    "> If we can 95% accuracy at predicting whether or not a patient has stroke disease during the proof of concept, we will pursue the project.\n",
    "\n",
    "# 4. Featues \n",
    "This is where you will get different information about each of the features in your data. You can do this by doing your own research (such as looking at the links above) or by talking to the subject matter expert(someone who knows about the dataset).\n",
    "\n",
    " \n",
    " ***Create Data Dictionary***\n",
    " \n",
    "1) id: unique identifier\n",
    "2) gender: \"Male\", \"Female\" or \"Other\"\n",
    "3) age: age of the patient\n",
    "4) hypertension: 0 if the patient doesn't have hypertension, 1 if the patient has hypertension\n",
    "5) heart_disease: 0 if the patient doesn't have any heart diseases, 1 if the patient has a heart disease\n",
    "6) ever_married: \"No\" or \"Yes\"\n",
    "7) work_type: \"children\", \"Govt_jov\", \"Never_worked\", \"Private\" or \"Self-employed\"\n",
    "8) Residence_type: \"Rural\" or \"Urban\"\n",
    "9) avg_glucose_level: average glucose level in blood\n",
    "10) bmi: body mass index\n",
    "11) smoking_status: \"formerly smoked\", \"never smoked\", \"smokes\" or \"Unknown\"*\n",
    "12) stroke: 1 if the patient had a stroke or 0 if not\n",
    "\n",
    "*Note: \"Unknown\" in smoking_status means that the information is unavailable for this patient"
   ]
  },
  {
   "cell_type": "markdown",
   "id": "f876d124",
   "metadata": {},
   "source": [
    "# Preparing the tools\n",
    "\n",
    "At the start of any project, it's custom to see the required libraries imported in a big chunk like you can see below.\n",
    "\n",
    "However, in practice, your projects may import libraries as you go. After you've spent a couple of hours working on your problem, you'll probably want to do some tidying up. This is where you may want to consolidate every library you've used at the top of your notebook (like the cell below).\n",
    "\n",
    "The libraries you use will differ from project to project. But there are a few which will you'll likely take advantage of during almost every structured data project.\n",
    "\n",
    "pandas for data analysis.\n",
    "NumPy for numerical operations.\n",
    "Matplotlib/seaborn for plotting or data visualization.\n",
    "Scikit-Learn for machine learning modelling and evaluation."
   ]
  },
  {
   "cell_type": "code",
   "execution_count": 32,
   "id": "6b52a14a",
   "metadata": {},
   "outputs": [],
   "source": [
    "# Regular EDA and plotting libraries\n",
    "import numpy as np # np is short for numpy\n",
    "import pandas as pd # pandas is so commonly used, it's shortened to pd\n",
    "import matplotlib.pyplot as plt\n",
    "import seaborn as sns # seaborn gets shortened to sns\n",
    "import xgboost as xgb\n",
    "\n",
    "# We want our plots to appear in the notebook\n",
    "%matplotlib inline \n",
    "\n",
    "# For Numerical Conversion\n",
    "from sklearn.preprocessing import OneHotEncoder\n",
    "from sklearn.compose import ColumnTransformer\n",
    "\n",
    "## Models for Scikit-Learn\n",
    "from sklearn.linear_model import LogisticRegression\n",
    "from sklearn.neighbors import KNeighborsClassifier\n",
    "from sklearn.ensemble import RandomForestClassifier\n",
    "\n",
    "## Model Evaluations\n",
    "from sklearn.model_selection import train_test_split, cross_val_score\n",
    "from sklearn.model_selection import RandomizedSearchCV, GridSearchCV\n",
    "from sklearn.metrics import confusion_matrix, classification_report\n",
    "from sklearn.metrics import precision_score, recall_score, f1_score\n",
    "from sklearn.metrics import RocCurveDisplay"
   ]
  },
  {
   "cell_type": "markdown",
   "id": "bf8532c7",
   "metadata": {},
   "source": [
    "# Load Data"
   ]
  },
  {
   "cell_type": "code",
   "execution_count": 37,
   "id": "ddc03e67",
   "metadata": {},
   "outputs": [],
   "source": [
    "df = pd.read_csv(\"stroke-dataset.csv\")\n",
    "df"
   ]
  },
  {
   "cell_type": "code",
   "execution_count": 35,
   "id": "b87b65b7",
   "metadata": {},
   "outputs": [],
   "source": [
    "df.shape "
   ]
  },
  {
   "cell_type": "markdown",
   "id": "fe4ce3f0",
   "metadata": {},
   "source": [
    "# Data Exploration (exploratory data analysis or EDA)\n",
    "\n",
    "The goal here is to find out more about the data and become a subject amtter expert on the data you are working with.\n",
    "\n",
    "1. What questions are you are trying to solve?\n",
    "2. What kind of data do we have and how do we treat different types?\n",
    "3. What is missing from the data and how do you deal with it?\n",
    "4. Where are the outliers and why should you care about them?\n",
    "5. How can you add, change, or remove features to get more out of your data"
   ]
  },
  {
   "cell_type": "code",
   "execution_count": 4,
   "id": "fe7577e7",
   "metadata": {},
   "outputs": [],
   "source": [
    "df.head()"
   ]
  },
  {
   "cell_type": "code",
   "execution_count": 5,
   "id": "dd277038",
   "metadata": {},
   "outputs": [],
   "source": [
    "df.tail()"
   ]
  },
  {
   "cell_type": "code",
   "execution_count": 6,
   "id": "e0b5ee4e",
   "metadata": {},
   "outputs": [],
   "source": [
    "df.info()"
   ]
  },
  {
   "cell_type": "code",
   "execution_count": 7,
   "id": "caca80b2",
   "metadata": {},
   "outputs": [],
   "source": [
    "# Lets find out how many of each class there are\n",
    "df[\"stroke\"].value_counts()"
   ]
  },
  {
   "cell_type": "code",
   "execution_count": 8,
   "id": "4ba6a466",
   "metadata": {},
   "outputs": [],
   "source": [
    "df[\"stroke\"].value_counts().plot(kind=\"bar\", color=[\"darkred\", \"darkblue\"]);"
   ]
  },
  {
   "cell_type": "code",
   "execution_count": 9,
   "id": "add5e696",
   "metadata": {},
   "outputs": [],
   "source": [
    "# Are there any missing values?\n",
    "df.isna().sum()"
   ]
  },
  {
   "cell_type": "code",
   "execution_count": 10,
   "id": "37041e9e",
   "metadata": {},
   "outputs": [],
   "source": [
    "# Fill missing values wiyth pandas\n",
    "df[\"bmi\"].fillna(df[\"bmi\"].mean(), inplace=True)\n",
    "\n",
    "# Remove rows with missing stroke values\n",
    "df.dropna(inplace=True)"
   ]
  },
  {
   "cell_type": "code",
   "execution_count": 11,
   "id": "ed51c5c0",
   "metadata": {},
   "outputs": [],
   "source": [
    "df.isna().sum()"
   ]
  },
  {
   "cell_type": "code",
   "execution_count": 12,
   "id": "3bdb7fa0",
   "metadata": {},
   "outputs": [],
   "source": [
    "df.info()"
   ]
  },
  {
   "cell_type": "code",
   "execution_count": 13,
   "id": "c871b59c",
   "metadata": {},
   "outputs": [],
   "source": [
    "df"
   ]
  },
  {
   "cell_type": "code",
   "execution_count": 14,
   "id": "29a67f04",
   "metadata": {},
   "outputs": [],
   "source": [
    "df.describe()"
   ]
  },
  {
   "cell_type": "code",
   "execution_count": 15,
   "id": "33f7c862",
   "metadata": {},
   "outputs": [],
   "source": [
    "pd.crosstab(df.stroke, df.gender)"
   ]
  },
  {
   "cell_type": "code",
   "execution_count": 16,
   "id": "25df1f34",
   "metadata": {},
   "outputs": [],
   "source": [
    "# Create a plot of crosstab\n",
    "pd.crosstab(df.stroke, df.gender).plot(kind=\"bar\",\n",
    "                                       figsize=(10, 6),\n",
    "                                       color=[\"salmon\", \"gray\"])\n",
    "\n",
    "plt.title(\"Stroke Disease Frequency For Gender\")\n",
    "plt.xlabel(\"0 = No Stroke, 1 = Stroke Present\")\n",
    "plt.ylabel(\"Amount\")\n",
    "plt.legend([\"Female\", \"Male\"])\n",
    "plt.xticks(rotation=0);"
   ]
  },
  {
   "cell_type": "markdown",
   "id": "7f32e0aa",
   "metadata": {},
   "source": [
    "# Age vs BMI for Stroke Disease"
   ]
  },
  {
   "cell_type": "code",
   "execution_count": 17,
   "id": "09b43b1f",
   "metadata": {},
   "outputs": [],
   "source": [
    "# Create another figure\n",
    "plt.figure(figsize=(10, 6))\n",
    "\n",
    "# Scatter with positve examples\n",
    "plt.scatter(df.age[df.stroke==1],\n",
    "            df.bmi[df.stroke==1],\n",
    "            color=\"darkred\");\n",
    "\n",
    "# Scatter with negative examples\n",
    "plt.scatter(df.age[df.stroke==0],\n",
    "            df.bmi[df.stroke==0],\n",
    "            color=\"lightblue\");\n",
    "\n",
    "# Add some helpful info\n",
    "plt.title(\"Stroke Disease for the Age and the BMI\")\n",
    "plt.xlabel(\"Age\")\n",
    "plt.ylabel(\"Body Mass Index (BMI)\")\n",
    "plt.legend([\"Disease Present\", \"No Disease\"])\n",
    "plt.xticks(rotation=0);"
   ]
  },
  {
   "cell_type": "code",
   "execution_count": 18,
   "id": "e27ef711",
   "metadata": {},
   "outputs": [],
   "source": [
    "# Check the distribution of the age column with a histogram\n",
    "df.age.plot.hist();"
   ]
  },
  {
   "cell_type": "markdown",
   "id": "fa413da2",
   "metadata": {},
   "source": [
    "# Stroke Disease Frequency per Hypertension\n",
    "* Hypertension: 0 if the patient doesn't have hypertension, 1 if the patient has hypertension."
   ]
  },
  {
   "cell_type": "code",
   "execution_count": 19,
   "id": "3c31b590",
   "metadata": {},
   "outputs": [],
   "source": [
    "pd.crosstab(df.hypertension, df.stroke)"
   ]
  },
  {
   "cell_type": "code",
   "execution_count": 20,
   "id": "05cabeb3",
   "metadata": {},
   "outputs": [],
   "source": [
    "# Make the crosstab more visual\n",
    "pd.crosstab(df.hypertension, df.stroke).plot(kind=\"bar\",\n",
    "                                             figsize=(10, 6),\n",
    "                                             color=[\"crimson\", \"gray\"])\n",
    "\n",
    "# Add some communication\n",
    "plt.title(\"Stroke Disease Frequency per Hypertension\")\n",
    "plt.xlabel(\"Hypertension\")\n",
    "plt.ylabel(\"Amount\")\n",
    "plt.legend([\"No Stroke\", \"Stroke Present\"])\n",
    "plt.xticks(rotation=0);"
   ]
  },
  {
   "cell_type": "markdown",
   "id": "d500fcf2",
   "metadata": {},
   "source": [
    "# Stroke Disease Frequency per Work Type\n",
    "\n",
    "7) work_type: \n",
    "    * \"children\", \"Govt_jov\", \"Never_worked\", \"Private\" or \"Self-employed\""
   ]
  },
  {
   "cell_type": "code",
   "execution_count": 21,
   "id": "f5f8907b",
   "metadata": {},
   "outputs": [],
   "source": [
    "pd.crosstab(df.work_type, df.stroke)"
   ]
  },
  {
   "cell_type": "code",
   "execution_count": 22,
   "id": "b176c671",
   "metadata": {},
   "outputs": [],
   "source": [
    "# Make the crosstab more visual\n",
    "pd.crosstab(df.work_type, df.stroke).plot(kind=\"bar\",\n",
    "                                          figsize=(10, 6),\n",
    "                                          color=[\"salmon\", \"lightblue\"])\n",
    "\n",
    "# Add some communication\n",
    "plt.title(\"Stroke Disease Frequency per Work Type\")\n",
    "plt.xlabel(\"worktype\")\n",
    "plt.ylabel(\"Amount\")\n",
    "plt.legend([\"No Stroke\", \"Stroke Present\"])\n",
    "plt.xticks(rotation=0);"
   ]
  },
  {
   "cell_type": "markdown",
   "id": "afdb3a3c",
   "metadata": {},
   "source": [
    "# Stroke Disease Frequency per Smoking Status\n",
    "\n",
    "11) smoking_status: \n",
    "    * \"formerly smoked\", \"never smoked\", \"smokes\" or \"Unknown\"*"
   ]
  },
  {
   "cell_type": "code",
   "execution_count": 23,
   "id": "8513896d",
   "metadata": {},
   "outputs": [],
   "source": [
    "pd.crosstab(df.smoking_status, df.stroke)"
   ]
  },
  {
   "cell_type": "code",
   "execution_count": 24,
   "id": "23ec163e",
   "metadata": {},
   "outputs": [],
   "source": [
    "# Make the crosstab more visual\n",
    "pd.crosstab(df.smoking_status, df.stroke).plot(kind=\"bar\",\n",
    "                                          figsize=(10, 6),\n",
    "                                          color=[\"lightblue\", \"darkblue\"])\n",
    "# Add some communication\n",
    "plt.title(\"Stroke Disease Frequency per Smoking Status\")\n",
    "plt.xlabel(\"Smoking Status\")\n",
    "plt.ylabel(\"Amount\")\n",
    "plt.legend([\"No Stroke Present\", \"Stroke Present\"])\n",
    "plt.xticks(rotation=0);"
   ]
  },
  {
   "cell_type": "code",
   "execution_count": 25,
   "id": "a5513cb6",
   "metadata": {},
   "outputs": [],
   "source": [
    "# Make a correlation matrix\n",
    "df.corr()"
   ]
  },
  {
   "cell_type": "code",
   "execution_count": 26,
   "id": "0ea599d5",
   "metadata": {},
   "outputs": [],
   "source": [
    "# Let's make our correlation matrix a little prettier\n",
    "corr_matrix = df.corr()\n",
    "fig, ax = plt.subplots(figsize=(15, 10))\n",
    "ax = sns.heatmap(corr_matrix,\n",
    "                 annot=True,\n",
    "                 linewidth=0.5,\n",
    "                 fmt=\".2f\",\n",
    "                 cmap=\"seismic\");"
   ]
  },
  {
   "cell_type": "code",
   "execution_count": 27,
   "id": "cbe999fe",
   "metadata": {},
   "outputs": [],
   "source": [
    "df.head()"
   ]
  },
  {
   "cell_type": "code",
   "execution_count": 28,
   "id": "40cefe67",
   "metadata": {},
   "outputs": [],
   "source": [
    "# Split Data into X and y\n",
    "X = df.drop(\"stroke\", axis=1)\n",
    "y = df[\"stroke\"]"
   ]
  },
  {
   "cell_type": "code",
   "execution_count": 29,
   "id": "2318b1f5",
   "metadata": {},
   "outputs": [],
   "source": [
    "transformed_X"
   ]
  },
  {
   "cell_type": "code",
   "execution_count": null,
   "id": "de800a55",
   "metadata": {},
   "outputs": [],
   "source": [
    "y"
   ]
  },
  {
   "cell_type": "code",
   "execution_count": null,
   "id": "5aeec4b2",
   "metadata": {},
   "outputs": [],
   "source": [
    "# import random seed\n",
    "np.random.sedd(42)\n",
    "\n",
    "# Split into train and test set\n",
    "X"
   ]
  }
 ],
 "metadata": {
  "kernelspec": {
   "display_name": "Python 3 (ipykernel)",
   "language": "python",
   "name": "python3"
  },
  "language_info": {
   "codemirror_mode": {
    "name": "ipython",
    "version": 3
   },
   "file_extension": ".py",
   "mimetype": "text/x-python",
   "name": "python",
   "nbconvert_exporter": "python",
   "pygments_lexer": "ipython3",
   "version": "3.11.3"
  }
 },
 "nbformat": 4,
 "nbformat_minor": 5
}
